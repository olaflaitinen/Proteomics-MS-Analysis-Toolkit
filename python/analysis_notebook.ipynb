# %% [markdown]
# ## 1. Setup and Data Loading

# %% [code]
import pandas as pd
from src.preprocessing import load_and_clean_maxquant
from src.analysis import run_differential_analysis
from src.plotting import plot_volcano, plot_pca
from src.enrichment import run_gsea

# Define file paths
protein_groups_file = '../data/proteinGroups.txt'
metadata_file = '../data/metadata.csv'

# Load and process data
processed_data, protein_names = load_and_clean_maxquant(protein_groups_file, metadata_file)
print("Processed Data Shape:", processed_data.shape)
processed_data.head()

# %% [markdown]
# ## 2. Quality Control: PCA Plot

# %% [code]
plot_pca(processed_data, metadata_file)

# %% [markdown]
# ## 3. Differential Abundance Analysis

# %% [code]
de_results = run_differential_analysis(processed_data, metadata_file, method='ttest')
de_results.head()

# %% [markdown]
# ## 4. Visualization: Volcano Plot

# %% [code]
plot_volcano(de_results)

# %% [markdown]
# ## 5. Functional Enrichment with GSEA

# %% [code]
gsea_results = run_gsea(de_results)
gsea_results.head()
